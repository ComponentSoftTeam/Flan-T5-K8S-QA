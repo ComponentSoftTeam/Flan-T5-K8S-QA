{
  "cells": [
    {
      "cell_type": "markdown",
      "metadata": {
        "id": "view-in-github",
        "colab_type": "text"
      },
      "source": [
        "<a href=\"https://colab.research.google.com/github/tmskss/Flan-T5-K8S-QA/blob/main/flan_t5_k8s.ipynb\" target=\"_parent\"><img src=\"https://colab.research.google.com/assets/colab-badge.svg\" alt=\"Open In Colab\"/></a>"
      ]
    },
    {
      "cell_type": "markdown",
      "metadata": {
        "id": "JkOUwZ6o8-CU"
      },
      "source": [
        "# This notebook is used to fine-tune flan-t5-base model on k8s question-command pairs gathered from k8s documentation"
      ]
    },
    {
      "cell_type": "markdown",
      "metadata": {
        "id": "b26RWYME9Reh"
      },
      "source": [
        "## Installing base requirements"
      ]
    },
    {
      "cell_type": "code",
      "execution_count": null,
      "metadata": {
        "id": "k27vDHV68qEf"
      },
      "outputs": [],
      "source": [
        "!pip install transformers[torch] tokenizers datasets evaluate rouge_score sentencepiece huggingface_hub --upgrade"
      ]
    },
    {
      "cell_type": "code",
      "execution_count": 2,
      "metadata": {
        "id": "yHcAPmHW863a"
      },
      "outputs": [],
      "source": [
        "import nltk\n",
        "from datasets import load_dataset\n",
        "import evaluate\n",
        "import numpy as np\n",
        "from transformers import T5Tokenizer, DataCollatorForSeq2Seq\n",
        "from transformers import T5ForConditionalGeneration, Seq2SeqTrainingArguments, Seq2SeqTrainer"
      ]
    },
    {
      "cell_type": "markdown",
      "metadata": {
        "id": "CekvjOj_9VJc"
      },
      "source": [
        "## Loading the dataset"
      ]
    },
    {
      "cell_type": "code",
      "execution_count": null,
      "metadata": {
        "id": "nMPywwZV89Wf"
      },
      "outputs": [],
      "source": [
        "dataset = load_dataset(\"TODO: dataset\")"
      ]
    },
    {
      "cell_type": "code",
      "execution_count": null,
      "metadata": {
        "id": "UJHmaxg79YLK"
      },
      "outputs": [],
      "source": [
        "tokenizer = T5Tokenizer.from_pretrained(\"google/flan-t5-base\")\n",
        "model = T5ForConditionalGeneration.from_pretrained(\"google/flan-t5-base\")"
      ]
    },
    {
      "cell_type": "code",
      "execution_count": null,
      "metadata": {
        "id": "PQ3e87qsN9IY"
      },
      "outputs": [],
      "source": [
        "from huggingface_hub import notebook_login\n",
        "\n",
        "notebook_login()"
      ]
    },
    {
      "cell_type": "code",
      "execution_count": 7,
      "metadata": {
        "id": "D9W4OMQG9iTE"
      },
      "outputs": [],
      "source": [
        "def preprocess_function(examples):\n",
        "    \"\"\"tokenize the text, and set the labels\"\"\"\n",
        "\n",
        "    inputs = [prefix + doc for doc in examples['question']]\n",
        "    inputs = tokenizer(inputs, max_length=256, truncation=True, padding='longest', return_tensors='pt')\n",
        "\n",
        "    labels = tokenizer(text_target=examples['code'], max_length=256, truncation=True, padding='longest', return_tensors='pt')\n",
        "\n",
        "    return {\n",
        "        'input_ids': inputs.input_ids,\n",
        "        'attention_mask': inputs.attention_mask,\n",
        "        'labels': labels.input_ids,\n",
        "    }\n"
      ]
    },
    {
      "cell_type": "code",
      "source": [
        "# Map the preprocessing function across our dataset\n",
        "tokenized_dataset_train = dataset['train'].map(preprocess_function, batched=True)\n",
        "tokenized_dataset_eval = dataset['test'].map(preprocess_function, batched=True)"
      ],
      "metadata": {
        "id": "TUX7KU2aelHW"
      },
      "execution_count": null,
      "outputs": []
    },
    {
      "cell_type": "markdown",
      "source": [
        "## Define metrics with ROUGE"
      ],
      "metadata": {
        "id": "ACrGB02uLz0Q"
      }
    },
    {
      "cell_type": "code",
      "source": [
        "# Set up Rouge score for evaluation\n",
        "nltk.download(\"punkt\", quiet=True)\n",
        "metric = evaluate.load(\"rouge\")\n",
        "\n",
        "def compute_metrics(eval_preds):\n",
        "    preds, labels = eval_preds\n",
        "\n",
        "    # decode preds and labels\n",
        "    labels = np.where(labels != -100, labels, tokenizer.pad_token_id)\n",
        "    decoded_preds = tokenizer.batch_decode(preds, skip_special_tokens=True)\n",
        "    decoded_labels = tokenizer.batch_decode(labels, skip_special_tokens=True)\n",
        "\n",
        "    # rougeLSum expects newline after each sentence\n",
        "    decoded_preds = [\"\\n\".join(nltk.sent_tokenize(pred.strip())) for pred in decoded_preds]\n",
        "    decoded_labels = [\"\\n\".join(nltk.sent_tokenize(label.strip())) for label in decoded_labels]\n",
        "\n",
        "    result = metric.compute(predictions=decoded_preds, references=decoded_labels, use_stemmer=True)\n",
        "    return result"
      ],
      "metadata": {
        "id": "SHbPXYrkL3gf"
      },
      "execution_count": null,
      "outputs": []
    },
    {
      "cell_type": "markdown",
      "source": [
        "## Set up training args and start training"
      ],
      "metadata": {
        "id": "tHUupAj-hmGb"
      }
    },
    {
      "cell_type": "code",
      "execution_count": null,
      "metadata": {
        "id": "_XD1VUGS--3t"
      },
      "outputs": [],
      "source": [
        "# Set up training arguments\n",
        "training_args = Seq2SeqTrainingArguments(\n",
        "    output_dir=\"./flan-t5-base-k8s-question-code\",\n",
        "    evaluation_strategy=\"epoch\",\n",
        "    learning_rate=5e-4,\n",
        "    per_device_train_batch_size=8,\n",
        "    per_device_eval_batch_size=4,\n",
        "    weight_decay=0.01,\n",
        "    num_train_epochs=5,\n",
        "    push_to_hub=True\n",
        ")\n",
        "\n",
        "# Set up trainer\n",
        "trainer = Seq2SeqTrainer(\n",
        "    model=model,\n",
        "    args=training_args,\n",
        "    train_dataset=tokenized_dataset_train,\n",
        "    eval_dataset=tokenized_dataset_eval,\n",
        "    data_collator=None,\n",
        "    compute_metrics=compute_metrics\n",
        ")\n",
        "\n",
        "# Train the model\n",
        "trainer.train()"
      ]
    },
    {
      "cell_type": "code",
      "execution_count": null,
      "metadata": {
        "id": "DG6FraiFOCFg"
      },
      "outputs": [],
      "source": [
        "trainer.push_to_hub()"
      ]
    },
    {
      "cell_type": "code",
      "execution_count": null,
      "metadata": {
        "id": "eiAD7sBLo5XM"
      },
      "outputs": [],
      "source": [
        "from transformers import AutoModelForSeq2SeqLM\n",
        "\n",
        "eval_model = AutoModelForSeq2SeqLM.from_pretrained(\"tmskss/flan-t5-base-k8s-question-code\")"
      ]
    },
    {
      "cell_type": "code",
      "execution_count": null,
      "metadata": {
        "id": "GPDtgLDdpPcL"
      },
      "outputs": [],
      "source": [
        "# Define your text input\n",
        "input_text = \"\"\n",
        "\n",
        "# Tokenize input text\n",
        "input_ids = tokenizer.encode(input_text, return_tensors=\"pt\", max_length=512, truncation=True).to('cuda')\n",
        "eval_model.to('cuda')\n",
        "\n",
        "# Generate text based on the input\n",
        "output_ids = eval_model.generate(input_ids, max_length=100, num_return_sequences=1, num_beams=8)\n",
        "\n",
        "# Decode the generated output\n",
        "generated_text = tokenizer.decode(output_ids[0], skip_special_tokens=True)\n",
        "\n",
        "# Print the generated text\n",
        "print(generated_text)\n"
      ]
    }
  ],
  "metadata": {
    "accelerator": "GPU",
    "colab": {
      "machine_shape": "hm",
      "provenance": [],
      "gpuType": "A100",
      "authorship_tag": "ABX9TyPDEY6UflYQ/3xxb0pLRMvS",
      "include_colab_link": true
    },
    "kernelspec": {
      "display_name": "Python 3",
      "name": "python3"
    },
    "language_info": {
      "name": "python"
    }
  },
  "nbformat": 4,
  "nbformat_minor": 0
}