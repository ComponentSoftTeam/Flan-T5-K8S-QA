{
  "cells": [
    {
      "cell_type": "markdown",
      "metadata": {
        "id": "view-in-github",
        "colab_type": "text"
      },
      "source": [
        "<a href=\"https://colab.research.google.com/github/ComponentSoftTeam/Mistral-Kubectl-Instruct/blob/main/notebooks/Deep_Learning_Demo.ipynb\" target=\"_parent\"><img src=\"https://colab.research.google.com/assets/colab-badge.svg\" alt=\"Open In Colab\"/></a>"
      ]
    },
    {
      "cell_type": "code",
      "execution_count": 70,
      "id": "bdfba6c5",
      "metadata": {
        "id": "bdfba6c5",
        "colab": {
          "base_uri": "https://localhost:8080/"
        },
        "outputId": "bad28337-ebfe-48ca-c427-51661d52944d"
      },
      "outputs": [
        {
          "output_type": "execute_result",
          "data": {
            "text/plain": [
              "<torch._C.Generator at 0x795d142e4210>"
            ]
          },
          "metadata": {},
          "execution_count": 70
        }
      ],
      "source": [
        "# Import required libraries\n",
        "import torch\n",
        "import torch.nn as nn\n",
        "import matplotlib.pyplot as plt\n",
        "import matplotlib.patches as patches\n",
        "\n",
        "import torchvision\n",
        "import numpy as np\n",
        "import torchvision.transforms as transforms\n",
        "from sklearn.metrics import accuracy_score, f1_score, precision_score, recall_score\n",
        "# Standardize random numbers for reproducibility\n",
        "torch.manual_seed(0)"
      ]
    },
    {
      "cell_type": "code",
      "execution_count": 2,
      "id": "5f54d472",
      "metadata": {
        "id": "5f54d472"
      },
      "outputs": [],
      "source": [
        "# input layer, a single hidden layer, and an output layer\n",
        "# Define hyperparameters\n",
        "input_size = 784  # 28x28 pixels\n",
        "hidden_size = 128\n",
        "num_classes = 10\n",
        "batch_size = 100"
      ]
    },
    {
      "cell_type": "code",
      "execution_count": 3,
      "id": "cf93c989",
      "metadata": {
        "id": "cf93c989"
      },
      "outputs": [],
      "source": [
        "img = torchvision.datasets.MNIST(root='../data', train=True, download=True)[0]"
      ]
    },
    {
      "cell_type": "code",
      "execution_count": 4,
      "id": "0de01bf4",
      "metadata": {
        "id": "0de01bf4"
      },
      "outputs": [],
      "source": [
        "# Load MNIST dataset\n",
        "transform = transforms.Compose(\n",
        "    [\n",
        "        transforms.ToTensor(),   # convert to pytorch tensor\n",
        "     transforms.Normalize((0.1307,), (0.3081,))  # standardize the values with mean + std\n",
        "    ]\n",
        ")\n",
        "\n",
        "\n",
        "train_dataset = torchvision.datasets.MNIST(root='../data', train=True, transform=transform, download=True)\n",
        "test_dataset = torchvision.datasets.MNIST(root='../data', train=False, transform=transform, download=True)\n",
        "\n",
        "train_loader = torch.utils.data.DataLoader(dataset=train_dataset, batch_size=batch_size, shuffle=True)\n",
        "test_loader = torch.utils.data.DataLoader(dataset=test_dataset, batch_size=batch_size, shuffle=False)\n"
      ]
    },
    {
      "cell_type": "code",
      "execution_count": 5,
      "id": "e926a88c",
      "metadata": {
        "colab": {
          "base_uri": "https://localhost:8080/",
          "height": 430
        },
        "id": "e926a88c",
        "outputId": "5db5a05f-5130-4ef9-acdf-032146d21556"
      },
      "outputs": [
        {
          "output_type": "display_data",
          "data": {
            "text/plain": [
              "<Figure size 640x480 with 1 Axes>"
            ],
            "image/png": "[encoded data removed]"
          },
          "metadata": {}
        }
      ],
      "source": [
        "# transpose the array to (28, 28) format expected by Matplotlib\n",
        "array = np.squeeze(np.transpose(train_dataset[0][0], (1, 2, 0)))\n",
        "\n",
        "# plot the image using Matplotlib\n",
        "plt.imshow(array)\n",
        "plt.show()\n",
        "\n"
      ]
    },
    {
      "cell_type": "code",
      "execution_count": 6,
      "id": "42f64815",
      "metadata": {
        "colab": {
          "base_uri": "https://localhost:8080/"
        },
        "id": "42f64815",
        "outputId": "c9193158-913a-4eb7-ceec-7aa6b5e97ff4"
      },
      "outputs": [
        {
          "output_type": "execute_result",
          "data": {
            "text/plain": [
              "torch.Size([100, 1, 28, 28])"
            ]
          },
          "metadata": {},
          "execution_count": 6
        }
      ],
      "source": [
        "next(iter(test_loader))[0].shape"
      ]
    },
    {
      "cell_type": "code",
      "execution_count": 7,
      "id": "9ef55b65",
      "metadata": {
        "id": "9ef55b65"
      },
      "outputs": [],
      "source": [
        "# Define the neural network model\n",
        "class NeuralNet(nn.Module):\n",
        "    def __init__(self, input_size, hidden_size, num_classes):\n",
        "        super(NeuralNet, self).__init__()\n",
        "        self.fc1 = nn.Linear(input_size, hidden_size)\n",
        "        self.relu = nn.ReLU()\n",
        "        self.fc2 = nn.Linear(hidden_size, num_classes)\n",
        "\n",
        "    def forward(self, x):\n",
        "        out = self.fc1(x)\n",
        "        out = self.relu(out)\n",
        "        out = self.fc2(out)\n",
        "        return out\n",
        "\n",
        "# Create the model\n",
        "model = NeuralNet(input_size, hidden_size, num_classes)"
      ]
    },
    {
      "cell_type": "code",
      "source": [
        "list(model.parameters())"
      ],
      "metadata": {
        "id": "n5AmQAJjjBgs",
        "colab": {
          "base_uri": "https://localhost:8080/"
        },
        "outputId": "d798afe8-45ad-4fae-c6d8-33391797fe13"
      },
      "id": "n5AmQAJjjBgs",
      "execution_count": 8,
      "outputs": [
        {
          "output_type": "execute_result",
          "data": {
            "text/plain": [
              "[Parameter containing:\n",
              " tensor([[-0.0294, -0.0263, -0.0138,  ...,  0.0021, -0.0198, -0.0150],\n",
              "         [-0.0104, -0.0348,  0.0019,  ..., -0.0299, -0.0201,  0.0149],\n",
              "         [-0.0333, -0.0204,  0.0268,  ...,  0.0080,  0.0160, -0.0330],\n",
              "         ...,\n",
              "         [ 0.0085, -0.0147, -0.0222,  ...,  0.0300, -0.0233, -0.0220],\n",
              "         [-0.0064,  0.0175, -0.0286,  ..., -0.0158,  0.0309,  0.0066],\n",
              "         [ 0.0125,  0.0280,  0.0030,  ..., -0.0105, -0.0321, -0.0053]],\n",
              "        requires_grad=True),\n",
              " Parameter containing:\n",
              " tensor([ 0.0045, -0.0211,  0.0224,  0.0130,  0.0158,  0.0272,  0.0240, -0.0157,\n",
              "         -0.0089,  0.0221,  0.0055,  0.0071, -0.0031, -0.0249, -0.0334, -0.0024,\n",
              "         -0.0124,  0.0129, -0.0047, -0.0190, -0.0051,  0.0227,  0.0324, -0.0356,\n",
              "          0.0029, -0.0081,  0.0255, -0.0104, -0.0205, -0.0056,  0.0218, -0.0106,\n",
              "          0.0032,  0.0340, -0.0189, -0.0079, -0.0206, -0.0077, -0.0113,  0.0232,\n",
              "          0.0032, -0.0164, -0.0082,  0.0203, -0.0323, -0.0244, -0.0152,  0.0348,\n",
              "          0.0135, -0.0112, -0.0147,  0.0299, -0.0163,  0.0146, -0.0340, -0.0219,\n",
              "         -0.0154, -0.0079,  0.0229, -0.0354, -0.0324,  0.0356, -0.0309,  0.0184,\n",
              "          0.0029, -0.0068,  0.0194, -0.0258,  0.0013, -0.0124,  0.0355,  0.0184,\n",
              "          0.0088, -0.0132,  0.0186,  0.0097,  0.0099,  0.0055,  0.0237, -0.0239,\n",
              "          0.0065,  0.0259,  0.0229, -0.0257, -0.0293,  0.0177,  0.0294,  0.0025,\n",
              "         -0.0016,  0.0016, -0.0095,  0.0272, -0.0003, -0.0101,  0.0052,  0.0150,\n",
              "         -0.0171, -0.0068, -0.0126,  0.0301,  0.0034,  0.0108, -0.0074, -0.0146,\n",
              "         -0.0192,  0.0016,  0.0270,  0.0165, -0.0327,  0.0272, -0.0132,  0.0253,\n",
              "          0.0232,  0.0313, -0.0302, -0.0205,  0.0323,  0.0154,  0.0050, -0.0181,\n",
              "         -0.0215,  0.0295,  0.0033,  0.0149,  0.0043,  0.0335, -0.0333, -0.0137],\n",
              "        requires_grad=True),\n",
              " Parameter containing:\n",
              " tensor([[ 0.0713,  0.0516, -0.0148,  ..., -0.0645,  0.0488,  0.0832],\n",
              "         [ 0.0728,  0.0199, -0.0192,  ...,  0.0612, -0.0055, -0.0093],\n",
              "         [-0.0157, -0.0368, -0.0454,  ..., -0.0530, -0.0544,  0.0828],\n",
              "         ...,\n",
              "         [-0.0326, -0.0131, -0.0012,  ...,  0.0867,  0.0805,  0.0461],\n",
              "         [-0.0475,  0.0275, -0.0127,  ...,  0.0701, -0.0700,  0.0575],\n",
              "         [ 0.0806, -0.0630, -0.0275,  ..., -0.0523, -0.0777,  0.0342]],\n",
              "        requires_grad=True),\n",
              " Parameter containing:\n",
              " tensor([-0.0202, -0.0255,  0.0481, -0.0532, -0.0282,  0.0517, -0.0137, -0.0359,\n",
              "         -0.0640, -0.0787], requires_grad=True)]"
            ]
          },
          "metadata": {},
          "execution_count": 8
        }
      ]
    },
    {
      "cell_type": "code",
      "execution_count": 9,
      "id": "fca379b3",
      "metadata": {
        "id": "fca379b3"
      },
      "outputs": [],
      "source": [
        "# Loss function options\n",
        "cross_entropy_loss = nn.CrossEntropyLoss()\n",
        "nll_loss = nn.NLLLoss()\n",
        "mse_loss = nn.MSELoss()\n",
        "\n",
        "optimizer = torch.optim.Adam(model.parameters(), lr=0.001)\n"
      ]
    },
    {
      "cell_type": "code",
      "execution_count": 10,
      "id": "c8df8e47",
      "metadata": {
        "id": "c8df8e47",
        "outputId": "b023aea6-c418-46bd-d9a1-a83275e1a208",
        "colab": {
          "base_uri": "https://localhost:8080/"
        }
      },
      "outputs": [
        {
          "output_type": "execute_result",
          "data": {
            "text/plain": [
              "784"
            ]
          },
          "metadata": {},
          "execution_count": 10
        }
      ],
      "source": [
        "input_size"
      ]
    },
    {
      "cell_type": "code",
      "execution_count": 11,
      "id": "502faaf8",
      "metadata": {
        "id": "502faaf8"
      },
      "outputs": [],
      "source": [
        "# Function to train the model\n",
        "def train_model(model, loss_function, train_loader, optimizer, num_epochs=10):\n",
        "    # Put the model in training mode\n",
        "    model.train()\n",
        "\n",
        "    # Iterate over the number of epochs\n",
        "    for epoch in range(num_epochs):\n",
        "        # Initialize the running loss for this epoch to zero\n",
        "        running_loss = 0.0\n",
        "\n",
        "        # Iterate over each batch in the training loader\n",
        "        for i, (images, labels) in enumerate(train_loader):\n",
        "\n",
        "            # Reshape the images tensor to have size (batch_size, input_size)\n",
        "            images = images.reshape(-1, input_size)\n",
        "            # Forward pass: compute the outputs of the model given the input images\n",
        "            outputs = model(images)\n",
        "            # Compute the loss between the outputs and the true labels\n",
        "            loss = loss_function(outputs, labels)\n",
        "            # Backward pass: compute the gradients of the loss with respect to the model parameters\n",
        "            optimizer.zero_grad()\n",
        "            loss.backward()\n",
        "            # Update the model parameters using the optimizer\n",
        "            optimizer.step()\n",
        "\n",
        "            # Add the current batch loss to the running loss for this epoch\n",
        "            running_loss += loss.item()\n",
        "\n",
        "        # Compute the average loss over all batches for this epoch and print it\n",
        "        print(f'Epoch [{epoch+1}/{num_epochs}], Loss: {running_loss/len(train_loader):.4f}')\n"
      ]
    },
    {
      "cell_type": "code",
      "execution_count": 12,
      "id": "410c88bf",
      "metadata": {
        "id": "410c88bf"
      },
      "outputs": [],
      "source": [
        "# Function to evaluate the model\n",
        "def evaluate_model(model, test_loader):\n",
        "    # Put the model in evaluation mode\n",
        "    model.eval()\n",
        "\n",
        "    # Initialize empty lists to store true and predicted labels\n",
        "    y_true, y_pred = [], []\n",
        "\n",
        "    # Disable gradient computation since we're only evaluating the model\n",
        "    with torch.no_grad():\n",
        "        # Iterate over each batch in the test loader\n",
        "        for images, labels in test_loader:\n",
        "            # Reshape the images tensor to have size (batch_size, input_size)\n",
        "            images = images.reshape(-1, input_size)\n",
        "\n",
        "            # Forward pass: compute the outputs of the model given the input images\n",
        "            outputs = model(images)\n",
        "\n",
        "            # Find the predicted class for each image in the batch\n",
        "            _, predicted = torch.max(outputs.data, 1)\n",
        "\n",
        "            # Append the true and predicted labels for this batch to the lists\n",
        "            y_true.extend(labels.numpy())\n",
        "            y_pred.extend(predicted.numpy())\n",
        "\n",
        "    # Calculate evaluation metrics using the true and predicted labels\n",
        "    accuracy, f1, precision, recall = evaluate_model_metrics(np.array(y_true), np.array(y_pred))\n",
        "\n",
        "    # Return the evaluation metrics\n",
        "    return accuracy, f1, precision, recall\n",
        "\n",
        "# Function to calculate evaluation metrics\n",
        "def evaluate_model_metrics(y_true, y_pred):\n",
        "    # Compute the accuracy, F1 score, precision, and recall\n",
        "    accuracy = accuracy_score(y_true, y_pred)\n",
        "    f1 = f1_score(y_true, y_pred, average='macro')\n",
        "    precision = precision_score(y_true, y_pred, average='macro')\n",
        "    recall = recall_score(y_true, y_pred, average='macro')\n",
        "\n",
        "    # Return the evaluation metrics\n",
        "    return accuracy, f1, precision, recall\n",
        "\n",
        "# Define a dictionary of loss functions\n",
        "loss_functions = {\n",
        "    'CrossEntropyLoss': nn.CrossEntropyLoss(),\n",
        "    'NLLLoss': nn.NLLLoss(),  # requires logsoftmax output (according to docs, so loss will be wrong without it!)\n",
        "    'MultiMarginLoss': nn.MultiMarginLoss()\n",
        "}"
      ]
    },
    {
      "cell_type": "code",
      "execution_count": 13,
      "id": "156ac9db",
      "metadata": {
        "colab": {
          "base_uri": "https://localhost:8080/"
        },
        "id": "156ac9db",
        "outputId": "26384e74-549f-45ba-bcd8-4c855865fe63"
      },
      "outputs": [
        {
          "output_type": "stream",
          "name": "stdout",
          "text": [
            "Training with CrossEntropyLoss:\n",
            "Epoch [1/5], Loss: 0.2866\n",
            "Epoch [2/5], Loss: 0.1266\n",
            "Epoch [3/5], Loss: 0.0871\n",
            "Epoch [4/5], Loss: 0.0659\n",
            "Epoch [5/5], Loss: 0.0518\n",
            "Performance metrics for CrossEntropyLoss:\n",
            "Accuracy: 0.9762, F1-score: 0.9761, Precision: 0.9763, Recall: 0.9759\n",
            "\n",
            "Training with NLLLoss:\n",
            "Epoch [1/5], Loss: -11701.7112\n",
            "Epoch [2/5], Loss: -83472.9902\n",
            "Epoch [3/5], Loss: -217247.0240\n",
            "Epoch [4/5], Loss: -402067.5901\n",
            "Epoch [5/5], Loss: -631297.0917\n"
          ]
        },
        {
          "output_type": "stream",
          "name": "stderr",
          "text": [
            "/usr/local/lib/python3.10/dist-packages/sklearn/metrics/_classification.py:1344: UndefinedMetricWarning: Precision is ill-defined and being set to 0.0 in labels with no predicted samples. Use `zero_division` parameter to control this behavior.\n",
            "  _warn_prf(average, modifier, msg_start, len(result))\n"
          ]
        },
        {
          "output_type": "stream",
          "name": "stdout",
          "text": [
            "Performance metrics for NLLLoss:\n",
            "Accuracy: 0.1135, F1-score: 0.0204, Precision: 0.0114, Recall: 0.1000\n",
            "\n",
            "Training with MultiMarginLoss:\n",
            "Epoch [1/5], Loss: 0.0423\n",
            "Epoch [2/5], Loss: 0.0156\n",
            "Epoch [3/5], Loss: 0.0104\n",
            "Epoch [4/5], Loss: 0.0079\n",
            "Epoch [5/5], Loss: 0.0064\n",
            "Performance metrics for MultiMarginLoss:\n",
            "Accuracy: 0.9716, F1-score: 0.9714, Precision: 0.9722, Recall: 0.9710\n",
            "\n"
          ]
        }
      ],
      "source": [
        "# Train and evaluate the model using different loss functions\n",
        "for loss_name, loss_function in loss_functions.items():\n",
        "    print(f'Training with {loss_name}:')\n",
        "\n",
        "    # Initialize a new model and optimizer for each loss function\n",
        "    model = NeuralNet(input_size, hidden_size, num_classes)\n",
        "    optimizer = torch.optim.Adam(model.parameters(), lr=0.001)\n",
        "\n",
        "    # Train the model\n",
        "    train_model(model, loss_function, train_loader, optimizer, num_epochs=5)\n",
        "\n",
        "    # Evaluate the model\n",
        "    accuracy, f1, precision, recall = evaluate_model(model, test_loader)\n",
        "    print(f'Performance metrics for {loss_name}:')\n",
        "    print(f'Accuracy: {accuracy:.4f}, F1-score: {f1:.4f}, Precision: {precision:.4f}, Recall: {recall:.4f}\\n')\n"
      ]
    },
    {
      "cell_type": "markdown",
      "source": [
        "# Demo"
      ],
      "metadata": {
        "id": "CuCoj1qFdqpK"
      },
      "id": "CuCoj1qFdqpK"
    },
    {
      "cell_type": "markdown",
      "source": [
        "## Setup"
      ],
      "metadata": {
        "id": "F7ZaLO9gowqa"
      },
      "id": "F7ZaLO9gowqa"
    },
    {
      "cell_type": "code",
      "source": [
        "class IterativeRenderer:\n",
        "  def __init__(self):\n",
        "    self.chunk_rows = 2\n",
        "    self.chunk_cols = 8\n",
        "    self.chunk_size = self.chunk_rows * self.chunk_cols\n",
        "    self.current_chunk = -1\n",
        "    self.imgs = None\n",
        "    self.last_patch = None\n",
        "    self.fig = None\n",
        "    self.axes = None\n",
        "    self.created = False\n",
        "\n",
        "  def load_img_chunk(self, chunk_index):\n",
        "    return [(np.squeeze(np.transpose(test_dataset[chunk_index * self.chunk_size + j][0], (1, 2, 0))), test_dataset[chunk_index * self.chunk_size + j][1]) for j in range(self.chunk_size)]\n",
        "\n",
        "  def render_chunk(self, i):\n",
        "\n",
        "    self.fig, self.axes = plt.subplots(nrows=self.chunk_rows, ncols=self.chunk_cols, figsize=(self.chunk_cols*2, self.chunk_rows*2))\n",
        "\n",
        "    chunk_index = i // self.chunk_size\n",
        "    i = i % self.chunk_size\n",
        "\n",
        "    if self.last_patch:\n",
        "      self.last_patch.remove()\n",
        "\n",
        "    if chunk_index != self.current_chunk:\n",
        "      imgs = self.load_img_chunk(chunk_index)\n",
        "      chunk_index = self.current_chunk\n",
        "\n",
        "      for row in range(self.chunk_rows):\n",
        "        for col in range(self.chunk_cols):\n",
        "          index = row * self.chunk_cols + col\n",
        "          ax = self.axes[row, col]\n",
        "          img, label = imgs[index]\n",
        "\n",
        "          ax.imshow(img)\n",
        "          ax.set_title(f'Label: {label}', fontsize=8)\n",
        "          ax.axis('off')\n",
        "\n",
        "          if i == index:\n",
        "            x0, x1, y0, y1 = ax.axis()\n",
        "            rec = patches.Rectangle((x0, y0), x1 - x0, y1 - y0, fill=False, lw=4, edgecolor='cyan')\n",
        "            self.last_patch = ax.add_patch(rec)\n",
        "            self.last_patch.set_clip_on(False)\n",
        "\n",
        "    else:\n",
        "      chunk_row = i // self.chunk_cols\n",
        "      chunk_col = i % self.chunk_cols\n",
        "      ax = self.axes[chunk_row, chunk_col]\n",
        "\n",
        "      x0, x1, y0, y1 = ax.axis()\n",
        "      rec = patches.Rectangle((x0, y0), x1 - x0, y1 - y0, fill=False, lw=4, edgecolor='cyan')\n",
        "      self.last_patch = ax.add_patch(rec)\n",
        "      self.last_patch.set_clip_on(False)\n",
        "\n",
        "    self.fig.tight_layout(pad=2)\n",
        "    plt.show()\n",
        "\n",
        "iterative_renderer = IterativeRenderer()"
      ],
      "metadata": {
        "id": "ZfNlwrb0dGH9"
      },
      "id": "ZfNlwrb0dGH9",
      "execution_count": 53,
      "outputs": []
    },
    {
      "cell_type": "code",
      "source": [
        "def display_prediction(i, width_limit = 160):\n",
        "  iterative_renderer.render_chunk(i)\n",
        "  test = test_dataset[i][0]\n",
        "  test = test.reshape(-1, input_size)\n",
        "\n",
        "  prediction = model(test)\n",
        "  prediction = torch.nn.functional.softmax(prediction, dim=1)[0]\n",
        "\n",
        "  print(\"\")\n",
        "  for i, val in enumerate(prediction.tolist()):\n",
        "    print(\"{}\\t{:.6f} {}\".format(i, val, \"#\"*min(round(width_limit*val), width_limit)))\n",
        "\n",
        "  print(f\"\\nmax: \\t{torch.max(prediction, 0)[1].item()}\")"
      ],
      "metadata": {
        "id": "GVlqGRAwxJiR"
      },
      "id": "GVlqGRAwxJiR",
      "execution_count": 89,
      "outputs": []
    },
    {
      "cell_type": "markdown",
      "source": [
        "## Examples"
      ],
      "metadata": {
        "id": "wyMFkgrbo6Fb"
      },
      "id": "wyMFkgrbo6Fb"
    },
    {
      "cell_type": "code",
      "source": [
        "display_index = 16"
      ],
      "metadata": {
        "id": "H1AFsRUdxFz7"
      },
      "id": "H1AFsRUdxFz7",
      "execution_count": 94,
      "outputs": []
    },
    {
      "cell_type": "code",
      "source": [
        "display_prediction(display_index)\n",
        "display_index += 1"
      ],
      "metadata": {
        "colab": {
          "base_uri": "https://localhost:8080/",
          "height": 611
        },
        "id": "kCLUEakho-3I",
        "outputId": "2436b5f3-dc94-4f5c-f25a-2f246fccf8c2"
      },
      "id": "kCLUEakho-3I",
      "execution_count": 95,
      "outputs": [
        {
          "output_type": "display_data",
          "data": {
            "text/plain": [
              "<Figure size 1600x400 with 16 Axes>"
            ],
            "image/png": "[encoded data removed]"
          },
          "metadata": {}
        },
        {
          "output_type": "stream",
          "name": "stdout",
          "text": [
            "\n",
            "0\t0.000365 \n",
            "1\t0.000007 \n",
            "2\t0.000447 \n",
            "3\t0.000153 \n",
            "4\t0.068220 ###########\n",
            "5\t0.000051 \n",
            "6\t0.000082 \n",
            "7\t0.014427 ##\n",
            "8\t0.001299 \n",
            "9\t0.914948 ##################################################################################################################################################\n",
            "\n",
            "max: \t9\n"
          ]
        }
      ]
    }
  ],
  "metadata": {
    "kernelspec": {
      "display_name": "Python 3",
      "name": "python3"
    },
    "language_info": {
      "codemirror_mode": {
        "name": "ipython",
        "version": 3
      },
      "file_extension": ".py",
      "mimetype": "text/x-python",
      "name": "python",
      "nbconvert_exporter": "python",
      "pygments_lexer": "ipython3",
      "version": "3.10.11"
    },
    "colab": {
      "provenance": [],
      "gpuType": "V100",
      "include_colab_link": true
    },
    "accelerator": "GPU"
  },
  "nbformat": 4,
  "nbformat_minor": 5
}